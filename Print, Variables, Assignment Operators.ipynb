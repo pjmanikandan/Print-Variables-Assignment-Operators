{
 "cells": [
  {
   "cell_type": "code",
   "execution_count": 1,
   "id": "2a2a405f",
   "metadata": {},
   "outputs": [
    {
     "name": "stdout",
     "output_type": "stream",
     "text": [
      "mani\n"
     ]
    }
   ],
   "source": [
    "print(\"mani\")"
   ]
  },
  {
   "cell_type": "code",
   "execution_count": 3,
   "id": "619d0f2a",
   "metadata": {},
   "outputs": [
    {
     "name": "stdout",
     "output_type": "stream",
     "text": [
      "Welcome to python\n"
     ]
    }
   ],
   "source": [
    "print(\"Welcome to python\")"
   ]
  },
  {
   "cell_type": "markdown",
   "id": "503e0a93",
   "metadata": {},
   "source": [
    "#  Variables\n"
   ]
  },
  {
   "cell_type": "code",
   "execution_count": 7,
   "id": "11502364",
   "metadata": {},
   "outputs": [
    {
     "name": "stdout",
     "output_type": "stream",
     "text": [
      "157\n"
     ]
    }
   ],
   "source": [
    "num=145\n",
    "num2=12\n",
    "add=num+num2\n",
    "print(add)"
   ]
  },
  {
   "cell_type": "code",
   "execution_count": 8,
   "id": "7709de85",
   "metadata": {},
   "outputs": [
    {
     "name": "stdout",
     "output_type": "stream",
     "text": [
      "450\n"
     ]
    }
   ],
   "source": [
    "milk=150\n",
    "sugar=300\n",
    "total=milk+sugar\n",
    "print(total)"
   ]
  },
  {
   "cell_type": "code",
   "execution_count": 17,
   "id": "bad63075",
   "metadata": {},
   "outputs": [
    {
     "name": "stdout",
     "output_type": "stream",
     "text": [
      "Manikandan\n"
     ]
    }
   ],
   "source": [
    "First_Name=\"Manikandan\"\n",
    "print(First_Name)"
   ]
  },
  {
   "cell_type": "code",
   "execution_count": 18,
   "id": "222de8ee",
   "metadata": {},
   "outputs": [
    {
     "name": "stdout",
     "output_type": "stream",
     "text": [
      "Manikandan\n"
     ]
    }
   ],
   "source": [
    "print(First_Name)"
   ]
  },
  {
   "cell_type": "code",
   "execution_count": 25,
   "id": "42084536",
   "metadata": {},
   "outputs": [
    {
     "name": "stdout",
     "output_type": "stream",
     "text": [
      "The addition of Two Numbers\n",
      "The number1: 10\n",
      "The number2: 55\n",
      "The Answer: 65\n"
     ]
    }
   ],
   "source": [
    "print(\"The addition of Two Numbers\")\n",
    "num1=10\n",
    "num2=55\n",
    "print(\"The number1:\", num1)\n",
    "print(\"The number2:\",num2)\n",
    "print(\"The Answer:\", num1+num2)"
   ]
  },
  {
   "cell_type": "code",
   "execution_count": null,
   "id": "3d0fccb9",
   "metadata": {},
   "outputs": [],
   "source": []
  }
 ],
 "metadata": {
  "kernelspec": {
   "display_name": "Python 3 (ipykernel)",
   "language": "python",
   "name": "python3"
  },
  "language_info": {
   "codemirror_mode": {
    "name": "ipython",
    "version": 3
   },
   "file_extension": ".py",
   "mimetype": "text/x-python",
   "name": "python",
   "nbconvert_exporter": "python",
   "pygments_lexer": "ipython3",
   "version": "3.9.12"
  }
 },
 "nbformat": 4,
 "nbformat_minor": 5
}
